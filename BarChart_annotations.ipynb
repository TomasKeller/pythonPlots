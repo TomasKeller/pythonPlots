{
 "cells": [
  {
   "cell_type": "code",
   "execution_count": 1,
   "metadata": {},
   "outputs": [],
   "source": [
    "# Annotate values on bars\n",
    "# Here the data is two customer types and we will follow the perfoermance of five agents during some months\n",
    "# We want to show percent performance and add number of interactions as extra information"
   ]
  },
  {
   "cell_type": "code",
   "execution_count": 2,
   "metadata": {},
   "outputs": [],
   "source": [
    "import pandas as pd\n",
    "import numpy as np\n",
    "import matplotlib.pyplot as plt\n",
    "import calendar\n"
   ]
  },
  {
   "cell_type": "code",
   "execution_count": 3,
   "metadata": {},
   "outputs": [],
   "source": [
    "data={'type':np.random.randint(low=0, high=2, size=1000), \n",
    "      'month':np.random.randint(low=1, high=5, size=1000),\n",
    "      'agent':np.random.randint(low=1, high=6, size=1000),\n",
    "      'percent':np.random.uniform(size=1000),\n",
    "      'count':np.random.randint(low=20, high=50, size=1000)}\n",
    "\n",
    "test_data=pd.DataFrame(data)"
   ]
  },
  {
   "cell_type": "code",
   "execution_count": 4,
   "metadata": {},
   "outputs": [
    {
     "data": {
      "text/html": [
       "<div>\n",
       "<style scoped>\n",
       "    .dataframe tbody tr th:only-of-type {\n",
       "        vertical-align: middle;\n",
       "    }\n",
       "\n",
       "    .dataframe tbody tr th {\n",
       "        vertical-align: top;\n",
       "    }\n",
       "\n",
       "    .dataframe thead th {\n",
       "        text-align: right;\n",
       "    }\n",
       "</style>\n",
       "<table border=\"1\" class=\"dataframe\">\n",
       "  <thead>\n",
       "    <tr style=\"text-align: right;\">\n",
       "      <th></th>\n",
       "      <th>type</th>\n",
       "      <th>month</th>\n",
       "      <th>agent</th>\n",
       "      <th>percent</th>\n",
       "      <th>count</th>\n",
       "    </tr>\n",
       "  </thead>\n",
       "  <tbody>\n",
       "    <tr>\n",
       "      <th>0</th>\n",
       "      <td>0</td>\n",
       "      <td>1</td>\n",
       "      <td>3</td>\n",
       "      <td>0.517482</td>\n",
       "      <td>25</td>\n",
       "    </tr>\n",
       "    <tr>\n",
       "      <th>1</th>\n",
       "      <td>0</td>\n",
       "      <td>3</td>\n",
       "      <td>4</td>\n",
       "      <td>0.735856</td>\n",
       "      <td>42</td>\n",
       "    </tr>\n",
       "  </tbody>\n",
       "</table>\n",
       "</div>"
      ],
      "text/plain": [
       "   type  month  agent   percent  count\n",
       "0     0      1      3  0.517482     25\n",
       "1     0      3      4  0.735856     42"
      ]
     },
     "execution_count": 4,
     "metadata": {},
     "output_type": "execute_result"
    }
   ],
   "source": [
    "test_data.head(2)"
   ]
  },
  {
   "cell_type": "code",
   "execution_count": 5,
   "metadata": {},
   "outputs": [],
   "source": [
    "# pivot the data to get it on agent level\n",
    "test_data_pct=pd.pivot_table(test_data, values='percent', index=['type', 'month'],columns=['agent'], aggfunc=np.mean)\n",
    "test_data_count=pd.pivot_table(test_data, values='count', index=['type', 'month'], columns=['agent'], aggfunc=np.mean)\n"
   ]
  },
  {
   "cell_type": "code",
   "execution_count": 6,
   "metadata": {},
   "outputs": [
    {
     "data": {
      "text/html": [
       "<div>\n",
       "<style scoped>\n",
       "    .dataframe tbody tr th:only-of-type {\n",
       "        vertical-align: middle;\n",
       "    }\n",
       "\n",
       "    .dataframe tbody tr th {\n",
       "        vertical-align: top;\n",
       "    }\n",
       "\n",
       "    .dataframe thead th {\n",
       "        text-align: right;\n",
       "    }\n",
       "</style>\n",
       "<table border=\"1\" class=\"dataframe\">\n",
       "  <thead>\n",
       "    <tr style=\"text-align: right;\">\n",
       "      <th></th>\n",
       "      <th>agent</th>\n",
       "      <th>1</th>\n",
       "      <th>2</th>\n",
       "      <th>3</th>\n",
       "      <th>4</th>\n",
       "      <th>5</th>\n",
       "    </tr>\n",
       "    <tr>\n",
       "      <th>type</th>\n",
       "      <th>month</th>\n",
       "      <th></th>\n",
       "      <th></th>\n",
       "      <th></th>\n",
       "      <th></th>\n",
       "      <th></th>\n",
       "    </tr>\n",
       "  </thead>\n",
       "  <tbody>\n",
       "    <tr>\n",
       "      <th rowspan=\"2\" valign=\"top\">0</th>\n",
       "      <th>1</th>\n",
       "      <td>0.538783</td>\n",
       "      <td>0.478902</td>\n",
       "      <td>0.550291</td>\n",
       "      <td>0.350779</td>\n",
       "      <td>0.554422</td>\n",
       "    </tr>\n",
       "    <tr>\n",
       "      <th>2</th>\n",
       "      <td>0.623896</td>\n",
       "      <td>0.531464</td>\n",
       "      <td>0.608364</td>\n",
       "      <td>0.502182</td>\n",
       "      <td>0.472264</td>\n",
       "    </tr>\n",
       "  </tbody>\n",
       "</table>\n",
       "</div>"
      ],
      "text/plain": [
       "agent              1         2         3         4         5\n",
       "type month                                                  \n",
       "0    1      0.538783  0.478902  0.550291  0.350779  0.554422\n",
       "     2      0.623896  0.531464  0.608364  0.502182  0.472264"
      ]
     },
     "execution_count": 6,
     "metadata": {},
     "output_type": "execute_result"
    }
   ],
   "source": [
    "test_data_pct.head(2)"
   ]
  },
  {
   "cell_type": "code",
   "execution_count": 7,
   "metadata": {},
   "outputs": [
    {
     "data": {
      "image/png": "[encoded data removed]",
      "text/plain": [
       "<Figure size 1008x432 with 1 Axes>"
      ]
     },
     "metadata": {
      "needs_background": "light"
     },
     "output_type": "display_data"
    }
   ],
   "source": [
    "select_type=1\n",
    "\n",
    "# select which customer type to analyse\n",
    "df_anno=test_data_count.xs(select_type,level=0)\n",
    "df_plot=test_data_pct.xs(select_type,level=0)\n",
    "\n",
    "# plot the percentage for all agents/months\n",
    "ax=df_plot.plot(kind='bar', color=['C0','C1','C4','C6','C2'], stacked=False, figsize=[14,6])\n",
    "\n",
    "#df_plot=df_plot.fillna(0)\n",
    "plt.ylabel('percent')\n",
    "plt.legend(loc='upper left')\n",
    "\n",
    "# prepare annotations\n",
    "# since we have many bars per month we need to use two for loops\n",
    "xs=df_plot.index\n",
    "ys=df_plot\n",
    "\n",
    "for x in xs: # x is the month\n",
    "    for i,y in enumerate(ys): # y is the height of the bar\n",
    "        label = \"{:.0f}\".format(df_anno[y].loc[x]) # df_anno is the annotation we want to use\n",
    "        plt.annotate(label, # this is the text\n",
    "                     (x-1.2+i*(1/10),df_plot[y].loc[x]), # this is the point to label\n",
    "                     textcoords=\"offset points\", # how to position the text\n",
    "                     xytext=(0,5), # distance from text to points (x,y)\n",
    "                     ha='center', # horizontal alignment can be left, right or center\n",
    "                     color='black')\n",
    "\n",
    "ax.set_xticklabels(map(lambda x: calendar.month_abbr[x], df_plot.index));\n"
   ]
  },
  {
   "cell_type": "code",
   "execution_count": null,
   "metadata": {},
   "outputs": [],
   "source": []
  }
 ],
 "metadata": {
  "kernelspec": {
   "display_name": "Python 3",
   "language": "python",
   "name": "python3"
  },
  "language_info": {
   "codemirror_mode": {
    "name": "ipython",
    "version": 3
   },
   "file_extension": ".py",
   "mimetype": "text/x-python",
   "name": "python",
   "nbconvert_exporter": "python",
   "pygments_lexer": "ipython3",
   "version": "3.6.10"
  }
 },
 "nbformat": 4,
 "nbformat_minor": 4
}
