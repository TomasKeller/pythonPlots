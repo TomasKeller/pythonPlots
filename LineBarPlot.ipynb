{
 "cells": [
  {
   "cell_type": "code",
   "execution_count": 38,
   "metadata": {
    "collapsed": false
   },
   "outputs": [],
   "source": [
    "import pandas as pd\n",
    "from scipy import stats\n",
    "import matplotlib.pyplot as plt\n",
    "%matplotlib inline  "
   ]
  },
  {
   "cell_type": "markdown",
   "metadata": {},
   "source": [
    "## Test data"
   ]
  },
  {
   "cell_type": "code",
   "execution_count": 32,
   "metadata": {
    "collapsed": true
   },
   "outputs": [],
   "source": [
    "import numpy\n",
    "import math\n",
    "\n",
    "# create a file with random values\n",
    "fo = open('tmpfile.txt','w')\n",
    "\n",
    "for i in range(0,100):\n",
    "    a = math.sin(10*numpy.random.rand())\n",
    "    b = math.cos(10*numpy.random.rand())\n",
    "    c = 10*numpy.random.rand()\n",
    "\n",
    "    s = str(a) +' '+str(b) +' '+str(c)\n",
    "    \n",
    "    fo.write(\"%s %s %s\\n\" % (a, b, c))\n",
    "#    fo.write('{} {} {}\\n'.format(a,b,c))\n",
    "\n",
    "fo.close()    \n",
    "\n",
    "train_data = pd.read_csv('tmpfile.txt', header=None,sep='\\s+' )\n",
    "train_data.columns=['a_col','b_col','c_col']\n",
    "train_data['d_col'] = [1 if x > 5 else 2 if x > 3 else 3 for x in sales.sum(axis=1)]\n",
    "train_data['Target'] = [1 if x > 5 else 0 for x in sales.sum(axis=1)]"
   ]
  },
  {
   "cell_type": "markdown",
   "metadata": {},
   "source": [
    "## Functions"
   ]
  },
  {
   "cell_type": "markdown",
   "metadata": {},
   "source": [
    "### Categorical features"
   ]
  },
  {
   "cell_type": "code",
   "execution_count": 12,
   "metadata": {
    "collapsed": true
   },
   "outputs": [],
   "source": [
    "def plotCat(_var, _target):\n",
    "    \"\"\"\n",
    "    input: categorical variable, target variable\n",
    "    e.g. plotCat2(train_data.REGIONIndex, train_data.Target)\n",
    "    \n",
    "    \"\"\"\n",
    "    feat_vs_target = pd.crosstab(_var, _target.astype(bool))\n",
    "\n",
    "    catFeat = train_data.groupby(_var).count().reset_index()\n",
    "    catFeat.Target.plot(kind='bar',alpha=0.2)\n",
    "    (feat_vs_target.div(feat_vs_target.sum(1).astype(float),axis=0)[:][1].\n",
    "     plot(kind='line', color='purple',stacked=True,secondary_y=True)\n",
    "     )\n",
    "    plt.title(_var.name)\n",
    "    plt.show()\n",
    "    return;"
   ]
  },
  {
   "cell_type": "markdown",
   "metadata": {},
   "source": [
    "### Float features"
   ]
  },
  {
   "cell_type": "code",
   "execution_count": 22,
   "metadata": {
    "collapsed": true
   },
   "outputs": [],
   "source": [
    "def plotFloat(_var, _target, _bin, _min, _max):\n",
    "    \"\"\"\n",
    "    input: float variable, target variable, num bins to plot data, min value of float, max value of float\n",
    "    e.g. plotFloat2(train_data.cnt_weekDaydayCallthdW, train_data.Target, 10, 0, 1000)\n",
    "    \n",
    "    \"\"\"\n",
    "    \n",
    "    bin_means, bin_edges, binnumber    = stats.binned_statistic(_var ,_target,statistic='mean', bins=_bin, range = (_min,_max))\n",
    "    bin_means2, bin_edges2, binnumber2 = stats.binned_statistic(_var ,_var,statistic='count', bins=_bin, range = (_min,_max))\n",
    "    \n",
    "    fig = plt.figure()\n",
    "    \n",
    "    ax = fig.add_subplot(111)\n",
    "    data = pd.DataFrame({'binValues':bin_edges2[:_bin],'features':bin_means2})\n",
    "    \n",
    "    ax = data['features'].plot(kind='bar',alpha=0.2)\n",
    "    \n",
    "    ax2 = ax.twinx()\n",
    "    orgBin = range(_bin)\n",
    "    \n",
    "    ax2.plot(bin_means,'r-')\n",
    "    \n",
    "    plt.xticks(orgBin,data.binValues)\n",
    "    plt.title(_var.name)\n",
    "    plt.show()\n",
    "    \n",
    "    return;"
   ]
  },
  {
   "cell_type": "markdown",
   "metadata": {},
   "source": [
    "## PLOT"
   ]
  },
  {
   "cell_type": "code",
   "execution_count": 37,
   "metadata": {
    "collapsed": false
   },
   "outputs": [
    {
     "data": {
      "image/png": "[encoded data removed]",
      "text/plain": [
       "<matplotlib.figure.Figure at 0x113d99a90>"
      ]
     },
     "metadata": {},
     "output_type": "display_data"
    }
   ],
   "source": [
    "plotCat(train_data.d_col,train_data.Target)"
   ]
  },
  {
   "cell_type": "code",
   "execution_count": 27,
   "metadata": {
    "collapsed": false
   },
   "outputs": [
    {
     "data": {
      "image/png": "[encoded data removed]",
      "text/plain": [
       "<matplotlib.figure.Figure at 0x1138b71d0>"
      ]
     },
     "metadata": {},
     "output_type": "display_data"
    }
   ],
   "source": [
    "plotFloat(train_data.c_col,train_data.Target,5,0,10)"
   ]
  },
  {
   "cell_type": "markdown",
   "metadata": {},
   "source": [
    "### Box plots"
   ]
  },
  {
   "cell_type": "code",
   "execution_count": 28,
   "metadata": {
    "collapsed": false
   },
   "outputs": [
    {
     "data": {
      "image/png": "[encoded data removed]",
      "text/plain": [
       "<matplotlib.figure.Figure at 0x110a739d0>"
      ]
     },
     "metadata": {},
     "output_type": "display_data"
    }
   ],
   "source": [
    "ax = train_data.boxplot(column='c_col',by='Target')"
   ]
  }
 ],
 "metadata": {
  "kernelspec": {
   "display_name": "Python 2",
   "language": "python",
   "name": "python2"
  },
  "language_info": {
   "codemirror_mode": {
    "name": "ipython",
    "version": 2
   },
   "file_extension": ".py",
   "mimetype": "text/x-python",
   "name": "python",
   "nbconvert_exporter": "python",
   "pygments_lexer": "ipython2",
   "version": "2.7.12"
  }
 },
 "nbformat": 4,
 "nbformat_minor": 0
}
