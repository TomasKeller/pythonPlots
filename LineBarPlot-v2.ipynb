{
 "cells": [
  {
   "cell_type": "code",
   "execution_count": 1,
   "metadata": {},
   "outputs": [],
   "source": [
    "import pandas as pd\n",
    "from scipy import stats\n",
    "import matplotlib.pyplot as plt\n",
    "%matplotlib inline  "
   ]
  },
  {
   "cell_type": "markdown",
   "metadata": {},
   "source": [
    "## Test data"
   ]
  },
  {
   "cell_type": "code",
   "execution_count": 6,
   "metadata": {},
   "outputs": [],
   "source": [
    "import numpy\n",
    "import math\n",
    "\n",
    "# create a file with random values\n",
    "fo = open('tmpfile.txt','w')\n",
    "\n",
    "for i in range(0,100):\n",
    "    a = math.sin(10*numpy.random.rand())\n",
    "    b = math.cos(10*numpy.random.rand())\n",
    "    c = 10*numpy.random.rand()\n",
    "\n",
    "    s = str(a) +' '+str(b) +' '+str(c)\n",
    "    \n",
    "    fo.write(\"%s %s %s\\n\" % (a, b, c))\n",
    "#    fo.write('{} {} {}\\n'.format(a,b,c))\n",
    "\n",
    "fo.close()    \n",
    "\n",
    "train_data = pd.read_csv('tmpfile.txt', header=None,sep='\\s+' )\n",
    "train_data.columns=['a_col','b_col','c_col']\n",
    "train_data['d_col'] = [1 if x > 5 else 2 if x > 3 else 3 for x in train_data.sum(axis=1)]\n",
    "train_data['Target'] = [1 if x > 5 else 0 for x in train_data.sum(axis=1)]"
   ]
  },
  {
   "cell_type": "markdown",
   "metadata": {},
   "source": [
    "## Functions"
   ]
  },
  {
   "cell_type": "markdown",
   "metadata": {},
   "source": [
    "### Categorical features"
   ]
  },
  {
   "cell_type": "code",
   "execution_count": 8,
   "metadata": {},
   "outputs": [],
   "source": [
    "def plotCat(train_data, _var, _target, sort = False, rotation=0):\n",
    "    \"\"\"\n",
    "    input: categorical variable, target variable\n",
    "    e.g. plotCat2(train_data.REGIONIndex, train_data.Target)\n",
    "    \n",
    "    \"\"\"\n",
    "    feat_vs_target = pd.crosstab(_var, _target.astype(bool))\n",
    "\n",
    "    if sort:\n",
    "        feat_vs_target.index = feat_vs_target.index.astype(int)\n",
    "        feat_vs_target = feat_vs_target.sort_index()\n",
    "        \n",
    "\n",
    "    catFeat = train_data.groupby(_var).count().reset_index()\n",
    "    catFeat.Target.plot(kind='bar',alpha=0.2)\n",
    "    (feat_vs_target.div(feat_vs_target.sum(1).astype(float),axis=0)[:][1].\n",
    "     plot(kind='line', color='purple',stacked=True,secondary_y=True, rot = rotation)\n",
    "     )\n",
    "    plt.title(_var.name)\n",
    "    plt.xticks(rotation='vertical')\n",
    "    plt.show()\n",
    "    return;"
   ]
  },
  {
   "cell_type": "markdown",
   "metadata": {},
   "source": [
    "### Float features"
   ]
  },
  {
   "cell_type": "code",
   "execution_count": 9,
   "metadata": {},
   "outputs": [],
   "source": [
    "def plotFloat(_var, _target, _bin, _min, _max, hline=None):\n",
    "    \"\"\"\n",
    "    input: float variable, target variable, num bins to plot data, min value of float, max value of float\n",
    "    e.g. plotFloat2(train_data.cnt_weekDaydayCallthdW, train_data.Target, 10, 0, 1000)\n",
    "    \n",
    "    \"\"\"\n",
    "    \n",
    "    bin_means, bin_edges, binnumber    = stats.binned_statistic(_var ,_target,statistic='mean', bins=_bin, range = (_min,_max))\n",
    "    bin_means2, bin_edges2, binnumber2 = stats.binned_statistic(_var ,_var,statistic='count', bins=_bin, range = (_min,_max))\n",
    "    \n",
    "    fig = plt.figure()\n",
    "    \n",
    "    ax = fig.add_subplot(111)\n",
    "    data = pd.DataFrame({'binValues':bin_edges2[:_bin],'features':bin_means2})\n",
    "    \n",
    "    ax = data['features'].plot(kind='bar',alpha=0.2)\n",
    "    \n",
    "    ax2 = ax.twinx()\n",
    "    orgBin = range(_bin)\n",
    "    \n",
    "    ax2.plot(bin_means,'r-')\n",
    "    \n",
    "    plt.xticks(orgBin,data.binValues)\n",
    "    plt.title(_var.name)\n",
    "    if hline:\n",
    "        plt.axhline(y=hline, color='r', linestyle='--')\n",
    "    plt.show()\n",
    "    \n",
    "    return;\n",
    "\n"
   ]
  },
  {
   "cell_type": "markdown",
   "metadata": {},
   "source": [
    "## PLOT"
   ]
  },
  {
   "cell_type": "code",
   "execution_count": 20,
   "metadata": {},
   "outputs": [
    {
     "data": {
      "image/png": "[encoded data removed]",
      "text/plain": [
       "<matplotlib.figure.Figure at 0x10cda3978>"
      ]
     },
     "metadata": {},
     "output_type": "display_data"
    }
   ],
   "source": [
    "plotCat(train_data, train_data.d_col,train_data.Target, False, -200)"
   ]
  },
  {
   "cell_type": "code",
   "execution_count": 15,
   "metadata": {},
   "outputs": [
    {
     "data": {
      "image/png": "[encoded data removed]",
      "text/plain": [
       "<matplotlib.figure.Figure at 0x10cabfba8>"
      ]
     },
     "metadata": {},
     "output_type": "display_data"
    }
   ],
   "source": [
    "hline = train_data['Target'].mean()\n",
    "plotFloat(train_data.c_col,train_data.Target,5,0,10, hline)"
   ]
  },
  {
   "cell_type": "markdown",
   "metadata": {},
   "source": [
    "### Box plots"
   ]
  },
  {
   "cell_type": "code",
   "execution_count": 21,
   "metadata": {},
   "outputs": [
    {
     "data": {
      "image/png": "[encoded data removed]",
      "text/plain": [
       "<matplotlib.figure.Figure at 0x10cd41a90>"
      ]
     },
     "metadata": {},
     "output_type": "display_data"
    }
   ],
   "source": [
    "ax = train_data.boxplot(column='c_col',by='Target')"
   ]
  }
 ],
 "metadata": {
  "kernelspec": {
   "display_name": "Python 3",
   "language": "python",
   "name": "python3"
  },
  "language_info": {
   "codemirror_mode": {
    "name": "ipython",
    "version": 3
   },
   "file_extension": ".py",
   "mimetype": "text/x-python",
   "name": "python",
   "nbconvert_exporter": "python",
   "pygments_lexer": "ipython3",
   "version": "3.5.4"
  }
 },
 "nbformat": 4,
 "nbformat_minor": 1
}
